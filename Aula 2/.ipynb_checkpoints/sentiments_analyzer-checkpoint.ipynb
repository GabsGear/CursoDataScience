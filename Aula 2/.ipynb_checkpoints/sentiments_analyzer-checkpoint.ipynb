{
 "cells": [
  {
   "cell_type": "markdown",
   "metadata": {},
   "source": [
    "### Aula 2 \n",
    "#### Análise de Sentimentos de tweets com textblob\n",
    "\n",
    "Uma forma muito útil afim de recolher dados de algum assunto requerido é a ultilização de interpretação de linguagem natural, nesta aula vamos aplicar tal técnica em dados baixados do twitter.\n",
    "\n",
    "Para baixar os tweets em tempo real você precisa de uma conta de desenvolvedor que pode ser criada [aqui](\"https://developer.twitter.com\")\n",
    "Caso não tenha a conta você pode baixar seus datasets para treino [aqui](\"https://twitter-sentiment-csv.herokuapp.com\")\n",
    "\n",
    "A biblioteca ultilizada para realizar as análises é a [textblob](\"https://textblob.readthedocs.io/en/dev/\") essa biblioteca realiza análize de linguagem de uma forma muito simples de usar, clique [aqui](\"https://textblob.readthedocs.io/en/dev/install.html\") e siga os passos para instalação. Existem outras bibliotecas mais complexas com muitas outras funções para reconhecimento e interpretaação de linguagem natural, se você quer se aprofundar nesse conteúdo vale a pena dar uma olhada pois tais bibliotecas são ultilizadas em aplicações reais e robustas, nosso exemplo é didático.\n",
    "\n",
    "* [NLTK](\"https://www.nltk.org\")\n",
    "* [SPACY](\"https://spacy.io\")\n",
    "\n",
    "\n",
    "#### Primeiro vamos ver como textblob funciona com alguns comandos básicos para trabalhar com strings\n"
   ]
  },
  {
   "cell_type": "code",
   "execution_count": 2,
   "metadata": {
    "collapsed": false
   },
   "outputs": [
    {
     "data": {
      "text/plain": [
       "TextBlob(\"Arara \")"
      ]
     },
     "execution_count": 2,
     "metadata": {},
     "output_type": "execute_result"
    }
   ],
   "source": [
    "from textblob import TextBlob as tb\n",
    "string = tb(\"Arara Makerspace\")\n",
    "string[0:6]      #pega posição 0 até 6"
   ]
  },
  {
   "cell_type": "code",
   "execution_count": 3,
   "metadata": {
    "collapsed": false
   },
   "outputs": [
    {
     "data": {
      "text/plain": [
       "TextBlob(\"ARARA MAKERSPACE\")"
      ]
     },
     "execution_count": 3,
     "metadata": {},
     "output_type": "execute_result"
    }
   ],
   "source": [
    "string.upper()  #passa pra maiusculo "
   ]
  },
  {
   "cell_type": "code",
   "execution_count": 4,
   "metadata": {
    "collapsed": false
   },
   "outputs": [
    {
     "data": {
      "text/plain": [
       "TextBlob(\"Arara Makerspace - Luan para presidente\")"
      ]
     },
     "execution_count": 4,
     "metadata": {},
     "output_type": "execute_result"
    }
   ],
   "source": [
    "string2 = tb(\" - Luan para presidente\") \n",
    "string + string2 #concatena as strings"
   ]
  },
  {
   "cell_type": "markdown",
   "metadata": {},
   "source": [
    "### Tokenização\n",
    "\n",
    "O textblob transforma as mensagens em uma sequencia tokens para que assim elas possam ser processadas.\n",
    "Criando um objeto do tipo tb (textblob) e ultilizando o metodo sentences pode-se ver as sentenças tokenizadas."
   ]
  },
  {
   "cell_type": "code",
   "execution_count": 8,
   "metadata": {
    "collapsed": false
   },
   "outputs": [
    {
     "data": {
      "text/plain": [
       "[Sentence(\"Luan Manao is a wonderful person, he should be our president.\")]"
      ]
     },
     "execution_count": 8,
     "metadata": {},
     "output_type": "execute_result"
    }
   ],
   "source": [
    "blob = tb(\"Luan Manao is a wonderful person, he should be our president.\")\n",
    "blob.sentences"
   ]
  },
  {
   "cell_type": "markdown",
   "metadata": {},
   "source": [
    "### Em um laço for podemos visualizar as sentenças separadamente"
   ]
  },
  {
   "cell_type": "code",
   "execution_count": 9,
   "metadata": {
    "collapsed": false
   },
   "outputs": [
    {
     "name": "stdout",
     "output_type": "stream",
     "text": [
      "Luan\n",
      "Manao\n",
      "is\n",
      "a\n",
      "wonderful\n",
      "person\n",
      "he\n",
      "should\n",
      "be\n",
      "our\n",
      "president\n"
     ]
    }
   ],
   "source": [
    "for words in blob.sentences[0].words:  ## imprime as palavras da primeira sentença\n",
    " print (words)"
   ]
  },
  {
   "cell_type": "markdown",
   "metadata": {},
   "source": [
    "### Extraindo substantivos\n",
    "Como extraímos as palavras da seção anterior, em vez disso, podemos extrair as frases nominais do textblob. A extração de frase de substantivo é particularmente importante quando você deseja analisar o “quem” em uma frase. Vamos ver um exemplo abaixo."
   ]
  },
  {
   "cell_type": "code",
   "execution_count": 10,
   "metadata": {
    "collapsed": false
   },
   "outputs": [
    {
     "name": "stdout",
     "output_type": "stream",
     "text": [
      "luan manao\n",
      "wonderful person\n"
     ]
    }
   ],
   "source": [
    "for np in blob.noun_phrases:\n",
    " print (np)"
   ]
  },
  {
   "cell_type": "markdown",
   "metadata": {
    "collapsed": true
   },
   "source": [
    "### Análise de sentimentos\n",
    "\n",
    "A análise de sentimentos basicamente captura as sentenças na frase e processa elas para verificar verificar o contexto assim determinando se a emoção é positiva, negativa ou neutra.\n",
    "\n",
    "A função sentiment do textblob retorna dois valores, ***polarity***, e ***subjectivity***\n",
    "\n",
    "***polarity*** Varia de -1 a 1, onde 1 representa um sentimento positivo e -1 negativo.\n",
    "***Subjectivity*** Varia de 0 a 1 e esta relacionado a opinião, quanto maior maior a probabilidade de que a sentença seja uma opinião pessoal."
   ]
  },
  {
   "cell_type": "code",
   "execution_count": null,
   "metadata": {
    "collapsed": true
   },
   "outputs": [],
   "source": []
  }
 ],
 "metadata": {
  "kernelspec": {
   "display_name": "Python 3",
   "language": "python",
   "name": "python3"
  },
  "language_info": {
   "codemirror_mode": {
    "name": "ipython",
    "version": 3
   },
   "file_extension": ".py",
   "mimetype": "text/x-python",
   "name": "python",
   "nbconvert_exporter": "python",
   "pygments_lexer": "ipython3",
   "version": "3.5.4rc1"
  }
 },
 "nbformat": 4,
 "nbformat_minor": 2
}
