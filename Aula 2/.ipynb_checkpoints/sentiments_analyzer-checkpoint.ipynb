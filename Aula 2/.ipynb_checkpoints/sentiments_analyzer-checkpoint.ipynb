{
 "cells": [
  {
   "cell_type": "markdown",
   "metadata": {},
   "source": [
    "### Aula 2 \n",
    "#### Análise de Sentimentos de tweets com textblob\n",
    "\n",
    "Uma forma muito útil afim de recolher dados de algum assunto requerido é a ultilização de interpretação de linguagem natural, nesta aula vamos aplicar tal técnica em dados baixados do twitter.\n",
    "\n",
    "Para baixar os tweets em tempo real você precisa de uma conta de desenvolvedor que pode ser criada [aqui](\"https://developer.twitter.com\")\n",
    "Caso não tenha a conta você pode baixar seus datasets para treino [aqui](\"https://twitter-sentiment-csv.herokuapp.com\")\n",
    "\n",
    "A biblioteca ultilizada para realizar as análises é a [textblob](\"https://textblob.readthedocs.io/en/dev/\") essa biblioteca realiza análize de linguagem de uma forma muito simples de usar, clique [aqui](\"https://textblob.readthedocs.io/en/dev/install.html\") e siga os passos para instalação. Existem outras bibliotecas mais complexas com muitas outras funções para reconhecimento e interpretaação de linguagem natural, se você quer se aprofundar nesse conteúdo vale a pena dar uma olhada pois tais bibliotecas são ultilizadas em aplicações reais e robustas, nosso exemplo é didático.\n",
    "\n",
    "* [NLTK](\"https://www.nltk.org\")\n",
    "* [SPACY](\"https://spacy.io\")"
   ]
  },
  {
   "cell_type": "code",
   "execution_count": null,
   "metadata": {
    "collapsed": true
   },
   "outputs": [],
   "source": []
  }
 ],
 "metadata": {
  "kernelspec": {
   "display_name": "Python 3",
   "language": "python",
   "name": "python3"
  },
  "language_info": {
   "codemirror_mode": {
    "name": "ipython",
    "version": 3
   },
   "file_extension": ".py",
   "mimetype": "text/x-python",
   "name": "python",
   "nbconvert_exporter": "python",
   "pygments_lexer": "ipython3",
   "version": "3.5.4rc1"
  }
 },
 "nbformat": 4,
 "nbformat_minor": 2
}
