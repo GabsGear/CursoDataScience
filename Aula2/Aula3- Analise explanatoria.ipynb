{
 "cells": [
  {
   "cell_type": "markdown",
   "metadata": {},
   "source": [
    "# Análise explanatória  (EDA)\n",
    "\n",
    "*** Objetivos: ***\n",
    "\n",
    "* Entender o que é e como aplicar um workflow \n",
    "* Entender o modelo, entender o conceito de métricas aplicar avaliação de regras de negócio.\n",
    "* Aplicar análise explanatoria, técnicas de estatística, queryes e afins.\n",
    "* Entendimento de modelos.\n",
    "* Data handling.\n",
    "* Modelo de dados (tratamento de data missing, outliers)\n",
    "* Criação de apresentação de dados com jupyter\n",
    "\n",
    "\n",
    "## Workflow - Engenharia de Software  \n",
    "\n",
    "Para que haja um entendimento completo e um projeto organizado orienta-se seguir algum método de engenharia de software definindo um workflow, existens alguns workflows famosos ultilizados no mercado como por exemplo [Crisp-dm](https://www.kdnuggets.com/2014/10/crisp-dm-top-methodology-analytics-data-mining-data-science-projects.html) e o [Microsoft Workflow for Data Science](https://docs.microsoft.com/en-us/azure/machine-learning/team-data-science-process/lifecycle-business-understanding) ambos os modelos são totalmente aplicáveis e ultilizados para o trabalho de um cientista de dados, tais técnicas são fundamentais para o trabalho em grupo. \n",
    "Nesse artigo ultilizaremos o Microsoft Workflow, que se baseia nos seguintes passos:\n",
    "\n",
    "+ Business Understanding\n",
    "+ Data Acquisition and Understanding\n",
    "+ Modeling\n",
    "+ Deployment\n",
    "+ Customer Acceptance\n",
    "\n",
    "![image.png](https://docs.microsoft.com/en-us/azure/machine-learning/team-data-science-process/media/overview/tdsp-lifecycle2.png)\n",
    "\n",
    "Fonte [Microsoft Data Science](https://docs.microsoft.com/en-us/azure/machine-learning/team-data-science-process/lifecycle-business-understanding)\n",
    "\n",
    "*** 1 - Busness understanding ***\n",
    "\n",
    "A parte de entendimento do negócio se baseia no entendimento do modelo, métricas e variáveis. Nessa fase estuda-se o modelo, define o problema a ser resolvido e as métricas ultilizadas para que seu resultado seja válido e impactante no negócio.\n",
    "\n",
    "\n",
    "*** 2 Data acquisition and understanding *** \n",
    "\n",
    "Na aquisição dos dados o objetivo é agrupar os dados e desenvolver seu dataset tendo em vista a criação de um dataset limpo e de qualidade, essa parte do projeto é a mais trabalhosa principalmente pela função da limpagem dos dados, em casos onde o profissional trabalha com dados não estruturados essa parte do projeto pode levar até meses. \n",
    "\n",
    "Na fase de aquisição dos dados também é necessária a definição da arquitetura ultilizada no projeto, precisa-se ultilizar uma visão analítica e avaliar seu dataset e assim definir quantas pipelines você irá ultilizar, se o projeto ultilizara um cluster x ou y, se necessitara de uma arquitetura de clusterização como handop e etc. \n",
    "\n",
    "*** 3 Modeling *** \n",
    "\n",
    "Aqui na modelagem você deve determinar qual modelo de machine learning ou modelo estatístico ultilizado.\n",
    "Uma das partes mais importantes nesse estágio é a separação do seu dataset em treino e teste, geralmente existem abordagens como 60-40 onde voce faz uma divisão em seu dataset com 60% treino e 40% teste até técnicas mais trabalhadas como walking forward algorithm que se encarrega de efetuar inúmeras divisões em seu modelo para facilitar a validação futura.\n",
    "\n",
    "Nsse passo específico você pode seguir a seguinte abordagem\n",
    "\n",
    "* *** Divida seu dataset *** como por exemplo uma divisão 60 - 40\n",
    "* *** Treine inúmeros modelos *** Treine vários modelos de dados, teste inúmeros algorítmos.\n",
    "* *** Teste  e valide os modelos *** Execute os testes com todos os modelos treinados, ultilize tecnicas como cross validation e A/B testing\n",
    "* *** Determine a \"melhor\" solução ***  Escolha o algorítmo que representa os melhores resultados nos testes, os melhores modelos irão para produção. No estágio de produção monitore constantemente seus resultados, retire as métricas e avalie elas calmamente.\n",
    "\n",
    "*** 4 Deployment *** \n",
    "\n",
    "No passo de desenvolvimento você vai montar o projeto para o usuario final, tenha criatividade e ultlize o melhor das técnicas de vizualização como:\n",
    "\n",
    "+ Online websites\n",
    "+ Spreadsheets\n",
    "+ Dashboards\n",
    "+ Line-of-business applications\n",
    "+ Back-end applications\n",
    "\n",
    "*** 5 Customer acceptance *** \n",
    "\n",
    "Agora você ja está terminando o projeto revise seu modelo, reveja todos os detalhes e principalmente *** garanta que você está entregando o que seu cliente realmente quer ***  e receba o feedback. Caso necessário reveja os passos anteriores.\n",
    "\n"
   ]
  },
  {
   "cell_type": "markdown",
   "metadata": {},
   "source": [
    "\n",
    "#  Workflow, análise explanatória Medical Cost Personal Datasets\n",
    "\n",
    "Para demostração ultiliza-se o [Medical Cost Personal Datasets](https://www.kaggle.com/mirichoi0218/insurance)  esse dataset é abordado no livro [Machine Learning with R by Brett Lantz](https://www.amazon.com.br/Machine-Learning-R-Brett-Lantz/dp/1782162143) e tais dados são de domínio publico, esse dataset e outros do livro se encontram pada download [aqui](https://github.com/stedy/Machine-Learning-with-R-datasets).\n",
    "\n",
    "*** 1 - Busness understanding ***\n",
    "\n",
    "Com esse dataset são possíveis inúmeras análises estatísticas e permite uma análise explanatória ideal, também pode ser ultilizada com machine learning para predição de custo, regressões lineares e afins.\n",
    "\n",
    "Colunas \n",
    "- age: Idade do beneficiário.\n",
    "\n",
    "- sex: Gênero explicito como: female, male.\n",
    "\n",
    "- bmi: Do inglês Body mass index, o índice de massa corporal, é calculado como:  (peso(kg) / altura(m) ^ 2) e os valores ideais estão entre,  18.5 a 24.9.\n",
    "\n",
    "- children: Número de crianças cobertas pelo plano de saúde.\n",
    "\n",
    "- smoker: Fumante ou não.\n",
    "\n",
    "- region: Região dos EUA onde o beneficiário vive, northeast, southeast, southwest, northwest.\n",
    "\n",
    "- charges: Custo pago pelo plano de  saúde.\n",
    "\n",
    "Entendimento do modelo:\n",
    "\n",
    "*** Questionar sobre ***  \n",
    "+ \"O que posso extrair com esses dados?\"\n",
    "+ \"O quais dados posso cruzar?\"\n",
    "+ \"Quão importante é essa pesquisa?\"\n",
    "+ \"Quão impactante é essa pesquisa?\"\n",
    "\n",
    "*** 2 Data acquisition and understanding ***\n",
    "\n",
    "*** 1 - Limpeza dos dados - tratando missing data ***\n",
    "No dataset foram inseridos alguns campos Nan e campos com valores em branco o primeiro passo após o download do dataset e carregar os dados  é remover tais campos pois eles contém informações inválidas. No nosso caso faremos o descarte total das linhas.\n",
    "\n",
    "*** Obs 2: *** A partir de agora ultilizaremos o python. Considerando que você ja tenha lido a [aula 1](https://github.com/araramakerspace/CursoDataScience/blob/master/Aula1-pandas%2Bmatplot/aula1.ipynb)\n",
    "\n",
    "\n",
    "*** Obs 2: *** O pandas dedicou uma pagina exclusiva para tratamento de data missing [aqui](https://pandas.pydata.org/pandas-docs/stable/missing_data.html)\n",
    "\n",
    "Primeiro executamos o metodo head() do pandas para mostrar os primeiros elementos em seguida o método isna() que verifica as dataMissing e retornam verdadeiro ou falso\n",
    "\n",
    "\n",
    "\n"
   ]
  },
  {
   "cell_type": "code",
   "execution_count": 90,
   "metadata": {},
   "outputs": [
    {
     "data": {
      "text/html": [
       "<div>\n",
       "<style scoped>\n",
       "    .dataframe tbody tr th:only-of-type {\n",
       "        vertical-align: middle;\n",
       "    }\n",
       "\n",
       "    .dataframe tbody tr th {\n",
       "        vertical-align: top;\n",
       "    }\n",
       "\n",
       "    .dataframe thead th {\n",
       "        text-align: right;\n",
       "    }\n",
       "</style>\n",
       "<table border=\"1\" class=\"dataframe\">\n",
       "  <thead>\n",
       "    <tr style=\"text-align: right;\">\n",
       "      <th></th>\n",
       "      <th>age</th>\n",
       "      <th>sex</th>\n",
       "      <th>bmi</th>\n",
       "      <th>children</th>\n",
       "      <th>smoker</th>\n",
       "      <th>region</th>\n",
       "      <th>charges</th>\n",
       "    </tr>\n",
       "  </thead>\n",
       "  <tbody>\n",
       "    <tr>\n",
       "      <th>0</th>\n",
       "      <td>19.0</td>\n",
       "      <td>female</td>\n",
       "      <td>27.9</td>\n",
       "      <td>0</td>\n",
       "      <td>yes</td>\n",
       "      <td>NaN</td>\n",
       "      <td>16884.92400</td>\n",
       "    </tr>\n",
       "    <tr>\n",
       "      <th>1</th>\n",
       "      <td>19.0</td>\n",
       "      <td>female</td>\n",
       "      <td>27.9</td>\n",
       "      <td>0</td>\n",
       "      <td>yes</td>\n",
       "      <td>southwest</td>\n",
       "      <td>16884.92400</td>\n",
       "    </tr>\n",
       "    <tr>\n",
       "      <th>2</th>\n",
       "      <td>18.0</td>\n",
       "      <td>male</td>\n",
       "      <td>33.77</td>\n",
       "      <td>1</td>\n",
       "      <td>no</td>\n",
       "      <td>southeast</td>\n",
       "      <td>1725.55230</td>\n",
       "    </tr>\n",
       "    <tr>\n",
       "      <th>3</th>\n",
       "      <td>NaN</td>\n",
       "      <td>male</td>\n",
       "      <td>33.77</td>\n",
       "      <td>1</td>\n",
       "      <td>no</td>\n",
       "      <td>southeast</td>\n",
       "      <td>1725.55230</td>\n",
       "    </tr>\n",
       "    <tr>\n",
       "      <th>4</th>\n",
       "      <td>28.0</td>\n",
       "      <td>male</td>\n",
       "      <td>33</td>\n",
       "      <td>3</td>\n",
       "      <td>no</td>\n",
       "      <td>southeast</td>\n",
       "      <td>4449.46200</td>\n",
       "    </tr>\n",
       "    <tr>\n",
       "      <th>5</th>\n",
       "      <td>28.0</td>\n",
       "      <td>male</td>\n",
       "      <td>33</td>\n",
       "      <td>3</td>\n",
       "      <td>no</td>\n",
       "      <td>NaN</td>\n",
       "      <td>4449.46200</td>\n",
       "    </tr>\n",
       "    <tr>\n",
       "      <th>6</th>\n",
       "      <td>33.0</td>\n",
       "      <td>male</td>\n",
       "      <td>22.705</td>\n",
       "      <td>0</td>\n",
       "      <td>no</td>\n",
       "      <td>northwest</td>\n",
       "      <td>21984.47061</td>\n",
       "    </tr>\n",
       "    <tr>\n",
       "      <th>7</th>\n",
       "      <td>32.0</td>\n",
       "      <td>male</td>\n",
       "      <td>28.88</td>\n",
       "      <td>0</td>\n",
       "      <td>no</td>\n",
       "      <td>northwest</td>\n",
       "      <td>3866.85520</td>\n",
       "    </tr>\n",
       "    <tr>\n",
       "      <th>8</th>\n",
       "      <td>32.0</td>\n",
       "      <td>male</td>\n",
       "      <td>NaN</td>\n",
       "      <td>0</td>\n",
       "      <td>no</td>\n",
       "      <td>NaN</td>\n",
       "      <td>3866.85520</td>\n",
       "    </tr>\n",
       "    <tr>\n",
       "      <th>9</th>\n",
       "      <td>31.0</td>\n",
       "      <td>female</td>\n",
       "      <td>25.74</td>\n",
       "      <td>0</td>\n",
       "      <td>no</td>\n",
       "      <td>southeast</td>\n",
       "      <td>3756.62160</td>\n",
       "    </tr>\n",
       "  </tbody>\n",
       "</table>\n",
       "</div>"
      ],
      "text/plain": [
       "    age     sex     bmi  children smoker     region      charges\n",
       "0  19.0  female    27.9         0    yes        NaN  16884.92400\n",
       "1  19.0  female    27.9         0    yes  southwest  16884.92400\n",
       "2  18.0    male   33.77         1     no  southeast   1725.55230\n",
       "3   NaN    male   33.77         1     no  southeast   1725.55230\n",
       "4  28.0    male      33         3     no  southeast   4449.46200\n",
       "5  28.0    male      33         3     no        NaN   4449.46200\n",
       "6  33.0    male  22.705         0     no  northwest  21984.47061\n",
       "7  32.0    male   28.88         0     no  northwest   3866.85520\n",
       "8  32.0    male     NaN         0     no        NaN   3866.85520\n",
       "9  31.0  female   25.74         0     no  southeast   3756.62160"
      ]
     },
     "execution_count": 90,
     "metadata": {},
     "output_type": "execute_result"
    }
   ],
   "source": [
    "import pandas as pd #biblioteca para manupular os dataframes\n",
    "import matplotlib.pyplot as plt #biblioteca para gráficos\n",
    "import seaborn as sns  #biblioteca para gráficos\n",
    "import numpy as np #biblioteca algebra linear\n",
    "\n",
    "#habilita iteração com os gráficos\n",
    "# %matplotlib notebook\n",
    "\n",
    "%matplotlib inline\n",
    "\n",
    "df = pd.read_csv(\"insurance.csv\")\n",
    "\n",
    "df.head(10)"
   ]
  },
  {
   "cell_type": "code",
   "execution_count": 106,
   "metadata": {
    "scrolled": true
   },
   "outputs": [],
   "source": [
    "#df.isna()"
   ]
  },
  {
   "cell_type": "markdown",
   "metadata": {},
   "source": [
    "*** Executamos o comando shape para verificar quantas linhas temos antes da remoção  *** "
   ]
  },
  {
   "cell_type": "code",
   "execution_count": 107,
   "metadata": {},
   "outputs": [
    {
     "data": {
      "text/plain": [
       "(1339, 8)"
      ]
     },
     "execution_count": 107,
     "metadata": {},
     "output_type": "execute_result"
    }
   ],
   "source": [
    "df.shape #verificar  o numero de linhas e colunas"
   ]
  },
  {
   "cell_type": "markdown",
   "metadata": {},
   "source": [
    "*** Para remover as datas missing ultiliza-se o comando df.dropna() para apagar as linhas NaN*** \n",
    "\n",
    "Outros argumentos para dropna()\n",
    "* df.dropna()     #apaga as linhas que possuem Nan\n",
    "* df.dropna(how='all')     #apaga somente as colunas em que todos os valores são NaN\n",
    "* df.dropna(thresh=2)   #Apaga coluna somente se houverem duas ocorrencias de NaN\n",
    "* df.dropna(subset=[1])   #Apagar somente uma coluna em específico\n"
   ]
  },
  {
   "cell_type": "code",
   "execution_count": 108,
   "metadata": {},
   "outputs": [],
   "source": [
    "df = df.dropna()"
   ]
  },
  {
   "cell_type": "markdown",
   "metadata": {},
   "source": [
    "*** Executamos novamente shape para verificar o valor pós execução. Constatamos que 6 linhas foram excluidas *** "
   ]
  },
  {
   "cell_type": "code",
   "execution_count": 109,
   "metadata": {},
   "outputs": [
    {
     "data": {
      "text/plain": [
       "(1339, 8)"
      ]
     },
     "execution_count": 109,
     "metadata": {},
     "output_type": "execute_result"
    }
   ],
   "source": [
    "df.shape"
   ]
  },
  {
   "cell_type": "markdown",
   "metadata": {},
   "source": [
    "### Como aprendemos na aula 1 o primeiro passo é usar o método describe para obter um resumo estatístico e verificar ocorrência de outliers\n"
   ]
  },
  {
   "cell_type": "code",
   "execution_count": 110,
   "metadata": {},
   "outputs": [
    {
     "data": {
      "text/html": [
       "<div>\n",
       "<style scoped>\n",
       "    .dataframe tbody tr th:only-of-type {\n",
       "        vertical-align: middle;\n",
       "    }\n",
       "\n",
       "    .dataframe tbody tr th {\n",
       "        vertical-align: top;\n",
       "    }\n",
       "\n",
       "    .dataframe thead th {\n",
       "        text-align: right;\n",
       "    }\n",
       "</style>\n",
       "<table border=\"1\" class=\"dataframe\">\n",
       "  <thead>\n",
       "    <tr style=\"text-align: right;\">\n",
       "      <th></th>\n",
       "      <th>age</th>\n",
       "      <th>children</th>\n",
       "      <th>charges</th>\n",
       "    </tr>\n",
       "  </thead>\n",
       "  <tbody>\n",
       "    <tr>\n",
       "      <th>count</th>\n",
       "      <td>1339.000000</td>\n",
       "      <td>1339.000000</td>\n",
       "      <td>1339.000000</td>\n",
       "    </tr>\n",
       "    <tr>\n",
       "      <th>mean</th>\n",
       "      <td>39.212099</td>\n",
       "      <td>1.094847</td>\n",
       "      <td>13266.665855</td>\n",
       "    </tr>\n",
       "    <tr>\n",
       "      <th>std</th>\n",
       "      <td>14.045936</td>\n",
       "      <td>1.205045</td>\n",
       "      <td>12106.265345</td>\n",
       "    </tr>\n",
       "    <tr>\n",
       "      <th>min</th>\n",
       "      <td>18.000000</td>\n",
       "      <td>0.000000</td>\n",
       "      <td>1121.873900</td>\n",
       "    </tr>\n",
       "    <tr>\n",
       "      <th>25%</th>\n",
       "      <td>27.000000</td>\n",
       "      <td>0.000000</td>\n",
       "      <td>4742.306100</td>\n",
       "    </tr>\n",
       "    <tr>\n",
       "      <th>50%</th>\n",
       "      <td>39.000000</td>\n",
       "      <td>1.000000</td>\n",
       "      <td>9377.904700</td>\n",
       "    </tr>\n",
       "    <tr>\n",
       "      <th>75%</th>\n",
       "      <td>51.000000</td>\n",
       "      <td>2.000000</td>\n",
       "      <td>16622.107580</td>\n",
       "    </tr>\n",
       "    <tr>\n",
       "      <th>max</th>\n",
       "      <td>64.000000</td>\n",
       "      <td>5.000000</td>\n",
       "      <td>63770.428010</td>\n",
       "    </tr>\n",
       "  </tbody>\n",
       "</table>\n",
       "</div>"
      ],
      "text/plain": [
       "               age     children       charges\n",
       "count  1339.000000  1339.000000   1339.000000\n",
       "mean     39.212099     1.094847  13266.665855\n",
       "std      14.045936     1.205045  12106.265345\n",
       "min      18.000000     0.000000   1121.873900\n",
       "25%      27.000000     0.000000   4742.306100\n",
       "50%      39.000000     1.000000   9377.904700\n",
       "75%      51.000000     2.000000  16622.107580\n",
       "max      64.000000     5.000000  63770.428010"
      ]
     },
     "execution_count": 110,
     "metadata": {},
     "output_type": "execute_result"
    }
   ],
   "source": [
    "df.describe()"
   ]
  },
  {
   "cell_type": "markdown",
   "metadata": {},
   "source": [
    "## Tipos de variáveis \n",
    "\n",
    "Para realizar análises mais sólidas um passo importante é a classificação de variáveis, pois tecnicas como regressão linear e outras não são aplicáveis em variáveis categóricas.\n",
    "\n",
    "* *** Variável categórica ***\n",
    "As variáveis categóricas contêm um número finito de categorias ou grupos distintos. Os dados categóricos podem não ter uma ordem lógica. Por exemplo, os preditores categóricos incluem gênero, tipo de material e método de pagamento.\n",
    "* *** Variável discreta ***\n",
    "Variáveis discretas são variáveis numéricas que têm um número contável de valores entre quaisquer dois valores. Uma variável discreta é sempre numérica. Por exemplo, o número de reclamações de clientes ou o número de falhas ou defeitos.\n",
    "* *** Variável contínua ***\n",
    "Variáveis contínuas são variáveis numéricas que têm um número infinito de valores entre dois valores quaisquer. Uma variável contínua pode ser numérica ou de data/hora. Por exemplo, o comprimento de uma peça ou a data e hora em que um pagamento é recebido.\n",
    "\n",
    "fonte [minitab](https://support.minitab.com/pt-br/minitab/18/help-and-how-to/modeling-statistics/regression/supporting-topics/basics/what-are-categorical-discrete-and-continuous-variables/)\n",
    "\n",
    "\n",
    "Nossas variáveis categóricas são sex, smoker e region, para deixar isso explícido ao pandas ultiliza-se o método Categorical.\n"
   ]
  },
  {
   "cell_type": "code",
   "execution_count": 111,
   "metadata": {},
   "outputs": [],
   "source": [
    "df['sex'] = pd.Categorical(df['sex'])\n",
    "df['smoker'] = pd.Categorical(df['smoker'])\n",
    "df['region'] = pd.Categorical(df['region'])"
   ]
  },
  {
   "cell_type": "markdown",
   "metadata": {},
   "source": [
    "### Para entender melhor nossos dados começamos a plotar algumas informações relevantes"
   ]
  },
  {
   "cell_type": "markdown",
   "metadata": {},
   "source": [
    "# Distribuição Regional"
   ]
  },
  {
   "cell_type": "code",
   "execution_count": 112,
   "metadata": {},
   "outputs": [
    {
     "data": {
      "image/png": "[encoded data removed]",
      "text/plain": [
       "<Figure size 432x288 with 1 Axes>"
      ]
     },
     "metadata": {},
     "output_type": "display_data"
    }
   ],
   "source": [
    "f,ax = plt.subplots()\n",
    "sns.countplot(x='region', data=df, palette=\"muted\",orient='v',ax=ax,edgecolor='0.2')\n",
    "ax.set_xlabel(\"Região\", fontsize=10)\n",
    "ax.set_title(\"Distribuição Regional\", fontsize=10)\n",
    "x_axis = ax.axes.get_yaxis().set_visible(True)\n",
    "sns.despine(left=True)\n",
    "plt.show()"
   ]
  },
  {
   "cell_type": "markdown",
   "metadata": {},
   "source": [
    "## Distribuição por faixa etária\n",
    "\n",
    "Para realizar a distribuição por faixa etária o ideal é a construção de dois gráficos, idade e a classificação por faixa etária.\n",
    "\n",
    "O padrão brasileiro de distribuição de idade disponível [aqui](https://pt.wikipedia.org/wiki/Predefini%C3%A7%C3%A3o:Faixas_et%C3%A1rias_do_Brasill) onde:\n",
    "\n",
    "Algumas modificações são seguidas no nosso modelo pois as crianças já possúem uma coluna própria por entrarem como dependentes no plano de saúde. Nós usaremos o padrão Americano pois nossos dados são dos EUA.\n",
    "\n",
    "+ Adolescente: até 17\n",
    "+ Adulto-Jovem: 17-29\n",
    "+ Adulto: 35-50\n",
    "+ Idosos: acima de 65\n",
    "\n",
    "\n",
    "Abaixo um exemplo de como realizar o mesmo:"
   ]
  },
  {
   "cell_type": "code",
   "execution_count": 113,
   "metadata": {},
   "outputs": [],
   "source": [
    "#Criando coluna de categoria de idade\n",
    "cut_points = [17,20,35,50,65]\n",
    "label_names = ['Adol',\"Adulto Jovem\",\"Adulto\",\"Idoso\"]\n",
    "\n",
    "#criação do plot 1 \n",
    "df[\"age_category\"] = pd.cut(df[\"age\"],cut_points,labels=label_names) #cria coluna no da"
   ]
  },
  {
   "cell_type": "code",
   "execution_count": 114,
   "metadata": {},
   "outputs": [
    {
     "data": {
      "image/png": "[encoded data removed]",
      "text/plain": [
       "<Figure size 720x360 with 2 Axes>"
      ]
     },
     "metadata": {},
     "output_type": "display_data"
    }
   ],
   "source": [
    "f,(ax1,ax2) = plt.subplots(1,2,figsize=(10,5))\n",
    "#cria o gráfico 1\n",
    "sns.countplot(x='age_category',data=df,palette='muted',orient='v',ax=ax1,edgecolor='0.2')\n",
    "\n",
    "#Calcula a porcentagem dos valores\n",
    "for i in ax1.patches: \n",
    "    ax1.text(i.get_x()+0.3, i.get_height()+3, \\\n",
    "            str(round((i.get_height()/df.age_category.shape[0])*100))+'%', fontsize=12,\n",
    "                color='black') \n",
    "    \n",
    "#cria plot 2 indicando a idade com 10 divisões\n",
    "ax2.hist('age', bins=10,data=df, edgecolor='black')\n",
    "\n",
    "\n",
    "ax1.set_xlabel(\"Categorias\", fontsize=13)\n",
    "ax1.tick_params(length=3,labelcolor='black')\n",
    "ax1.set_title(\"Classificação por idade\")\n",
    "\n",
    "ax2.set_xlabel('Idade')\n",
    "ax2.set_title('Distribuição por idade')\n",
    "\n",
    "x_axis = ax1.axes.get_yaxis().set_visible(True)\n",
    "\n",
    "f.subplots_adjust()\n",
    "sns.despine(left=True)\n",
    "plt.show()"
   ]
  },
  {
   "cell_type": "markdown",
   "metadata": {},
   "source": [
    "\n"
   ]
  },
  {
   "cell_type": "markdown",
   "metadata": {},
   "source": [
    "# Cruzando dados - Data Handling"
   ]
  },
  {
   "cell_type": "markdown",
   "metadata": {},
   "source": [
    "Para ficar mais interessante cruzamos os dados obtidos anteriormente.\n",
    "\n",
    "Cria-se a função distr_genero que recebe como argumento o parametro do dataframe que desejamos separar em função do gênero (***nesse caso variáveis categóricas***), no caso age_category (idade). Dessa forma pode-se reaproveitar a função para plotar outras características em função do gênero."
   ]
  },
  {
   "cell_type": "code",
   "execution_count": 115,
   "metadata": {},
   "outputs": [
    {
     "data": {
      "image/png": "[encoded data removed]",
      "text/plain": [
       "<Figure size 720x360 with 1 Axes>"
      ]
     },
     "metadata": {},
     "output_type": "display_data"
    }
   ],
   "source": [
    "def distr_genero(x_val,title):\n",
    "    f,ax = plt.subplots(figsize=(10,5))\n",
    "    \n",
    "    sns.countplot(x=x_val, data=df, palette=['blue','pink'],hue='sex',hue_order=['male','female'])\n",
    "    \n",
    "    for i in ax.patches:\n",
    "        ax.text(i.get_x()+0.1, i.get_height()+3, \\\n",
    "                str(round((i.get_height()/df.region.shape[0])*100))) \n",
    "    \n",
    "    ax.set_title(title +' Distribuição por gênero')\n",
    "\n",
    "    ax.legend(loc=[1,1],title='Gênero',ncol=2)\n",
    "    sns.despine(left=True)\n",
    "    return plt.show()\n",
    "\n",
    "distr_genero('age_category','Idade -')\n"
   ]
  },
  {
   "cell_type": "markdown",
   "metadata": {},
   "source": [
    "***Esse gráfico abre espaço para discussão, porque temos um número maior de adolescentes e adultos do sexo masculino enquanto o número maior de idosos é feminino?***"
   ]
  },
  {
   "cell_type": "markdown",
   "metadata": {},
   "source": [
    "#### Reaproveitando a função para cruzar o gênero com a localização para sabermos aonde se encontram a maior concentração de homens e mulheres"
   ]
  },
  {
   "cell_type": "code",
   "execution_count": 116,
   "metadata": {},
   "outputs": [
    {
     "data": {
      "image/png": "[encoded data removed]",
      "text/plain": [
       "<Figure size 720x360 with 1 Axes>"
      ]
     },
     "metadata": {},
     "output_type": "display_data"
    }
   ],
   "source": [
    "distr_genero('region','Localização -')"
   ]
  },
  {
   "cell_type": "markdown",
   "metadata": {},
   "source": [
    "#### Reaproveitamos novamente a função criada para separar entre fumantes e não fumantes por gênero"
   ]
  },
  {
   "cell_type": "code",
   "execution_count": 117,
   "metadata": {},
   "outputs": [
    {
     "data": {
      "image/png": "[encoded data removed]",
      "text/plain": [
       "<Figure size 720x360 with 1 Axes>"
      ]
     },
     "metadata": {},
     "output_type": "display_data"
    }
   ],
   "source": [
    "distr_genero('smoker','Fumantes')"
   ]
  },
  {
   "cell_type": "markdown",
   "metadata": {},
   "source": [
    "***A análise desse gráfico mostra que a maioria dos fumantes são do sexo masculino, isso pode ter a ver com o primeiro gráfico? ***"
   ]
  },
  {
   "cell_type": "markdown",
   "metadata": {},
   "source": [
    "## Vamos estudar mais sobre o BMI"
   ]
  },
  {
   "cell_type": "markdown",
   "metadata": {},
   "source": [
    "BMI ou indíce de massa corporal"
   ]
  },
  {
   "cell_type": "code",
   "execution_count": null,
   "metadata": {},
   "outputs": [],
   "source": []
  },
  {
   "cell_type": "markdown",
   "metadata": {},
   "source": [
    "# Correlacionando os dados\n"
   ]
  },
  {
   "cell_type": "code",
   "execution_count": null,
   "metadata": {},
   "outputs": [],
   "source": []
  },
  {
   "cell_type": "code",
   "execution_count": null,
   "metadata": {},
   "outputs": [],
   "source": []
  },
  {
   "cell_type": "markdown",
   "metadata": {},
   "source": [
    "\n",
    "\n",
    "\n",
    "\n",
    "guia (---(coisa gabs) --- IGNORAR O ESCRITO NESSE BLOCO [RASCUNHO])\n",
    "- Discuções e entendimento de modelos de negócio \n",
    "- Análises explanatórias e estatística.\n",
    "- Entendimento de modelos\n",
    "- Data handling \n",
    "- Modelo de dados (tratamento de data missing, outliers)\n",
    "- Modelos estatísticos\n",
    "- Criação de apresentação de dados com jupyter\n",
    "\n",
    "dataset da aula [gastos medicos](https://www.kaggle.com/mirichoi0218/insurance)\n",
    "\n",
    "\n",
    "leitura adicional (análise estatística, estatística aplicada):\n",
    "https://www.kaggle.com/janiobachmann/statistical-analysis-a-frequentist-approach\n",
    "\n",
    "\n",
    "ordem\n",
    "*** uns 3 slides de teoria, seguir a análise explanatoria seguindo o workflow da microsoft (claro reduzido) *** \n",
    "- Microsoft Workflow para data Science -> explicar como funciona o metodo do workflow (engenharia de software) ver [aqui] (https://docs.microsoft.com/enus/azure/machine-learning/team-data-science-process/overview)\n",
    "                                                                                      \n",
    "- Discuções e entendimento de modelos de negócio Falar de como aplicar as metricas, dos desafios de escolher as melhores metricas no nosso exemplo ficara bem claro\n",
    "\n",
    "- analise explanatoria completa\n",
    "\n",
    "Realizar uma analise explanatoria completa explicanto todos os conceitos em paralelo, \n",
    "\n",
    "\n",
    "\n",
    "\n",
    "\n",
    "\n",
    "\n"
   ]
  }
 ],
 "metadata": {
  "kernelspec": {
   "display_name": "Python 3",
   "language": "python",
   "name": "python3"
  },
  "language_info": {
   "codemirror_mode": {
    "name": "ipython",
    "version": 3
   },
   "file_extension": ".py",
   "mimetype": "text/x-python",
   "name": "python",
   "nbconvert_exporter": "python",
   "pygments_lexer": "ipython3",
   "version": "3.6.5"
  }
 },
 "nbformat": 4,
 "nbformat_minor": 2
}
