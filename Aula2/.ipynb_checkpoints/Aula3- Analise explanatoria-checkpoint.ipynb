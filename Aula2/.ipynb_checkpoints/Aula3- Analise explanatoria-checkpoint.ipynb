{
 "cells": [
  {
   "cell_type": "markdown",
   "metadata": {},
   "source": [
    "guia (---)\n",
    "- Discuções e entendimento de modelos de negócio \n",
    "- Análises explanatórias e estatística.\n",
    "- Entendimento de modelos\n",
    "- Data handling \n",
    "- Modelo de dados (tratamento de data missing, outliers)\n",
    "- Modelos estatísticos\n",
    "- Criação de apresentação de dados com jupyter\n",
    "\n",
    "dataset da aula [gastos medicos](https://www.kaggle.com/mirichoi0218/insurance)\n",
    "\n",
    "\n",
    "leitura adicional (análise estatística, estatística aplicada):\n",
    "https://www.kaggle.com/janiobachmann/statistical-analysis-a-frequentist-approach\n",
    "\n",
    "\n",
    "ordem\n",
    "- Microsoft Workflow para data Science -> explicar como funciona o metodo do workflow (engenharia de software) ver [aqui] (https://docs.microsoft.com/enus/azure/machine-learning/team-data-science-process/overview)\n",
    "                                                                                      \n",
    "- Discuções e entendimento de modelos de negócio Falar de como aplicar as metricas, dos desafios de escolher as melhores metricas no nosso exemplo ficara bem claro\n",
    "\n",
    "- analise explanatoria completa\n",
    "\n",
    "Realizar uma analise explanatoria completa explicanto todos os conceitos em paralelo, \n",
    "\n"
   ]
  },
  {
   "cell_type": "code",
   "execution_count": null,
   "metadata": {},
   "outputs": [],
   "source": [
    "import pandas as pd\n",
    "import matplotlib.pyplot as plt\n",
    "import seaborn as sns\n",
    "import numpy as np\n",
    "%matplotlib inline\n"
   ]
  }
 ],
 "metadata": {
  "kernelspec": {
   "display_name": "Python 3",
   "language": "python",
   "name": "python3"
  },
  "language_info": {
   "codemirror_mode": {
    "name": "ipython",
    "version": 3
   },
   "file_extension": ".py",
   "mimetype": "text/x-python",
   "name": "python",
   "nbconvert_exporter": "python",
   "pygments_lexer": "ipython3",
   "version": "3.6.5"
  }
 },
 "nbformat": 4,
 "nbformat_minor": 2
}
