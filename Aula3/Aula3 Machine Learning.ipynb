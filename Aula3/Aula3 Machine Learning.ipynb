{
 "cells": [
  {
   "attachments": {},
   "cell_type": "markdown",
   "metadata": {},
   "source": [
    "# Introdução a Machine Learning\n",
    "\n",
    "![image.png](http://www.santodigital.com.br/wp-content/uploads/2017/09/5-exemplos-de-uso-do-machine-learning-em-empresas.jpg)\n",
    "\n",
    "#### Objetivos\n",
    "\n",
    "+ Entender conceitos fundamentais de machine learning\n",
    "+ Diferenciar aplicação de algoritmos de classificação, predição, recomendação e regressão. \n",
    "+ Entender conceitos de aprendizado supervisionado, não supervisionado e aprendizado com reforço\n",
    "+ Aplicar decision tree com dataset do spotify\n",
    "\n",
    "\n",
    "\n",
    "\n",
    "*** Machine Learning *** O aprendizado de máquina (machine learning) é um ramo da inteligência artificial (AI) que é estudado desde a década de 60, nos ultimos anos tecnicas de machine learning ganharam muita força devido a avanços em data mining e big data. \n",
    "\n",
    "A ideia principal de algorítmos de machine learning é ensinar a máquina a partir de exemplos, ou seja sem programa-la explicitamente construindo *** algorítmos genéricos *** baseados nos dados disponíveis. Por exemplo um algorítmo que foi criado para detectar alfabetos maiúsculos e minúsculos também pode ser usado para classificar e-mails com spam e sem spam.\n",
    "\n",
    "O cientista da computação [Tom M. Mitchell](https://en.wikipedia.org/wiki/Tom_M._Mitchell) citou o seguinte texto:\n",
    "\n",
    "*“A computer program is said to learn from experience E with some class of tasks T and performance measure P if its performance at tasks in T, as measured by P, improves with experience E.” *\n",
    "\n",
    "“Um proframa de computador encarregado de uma classe de  tarefas T tem sua performance medida por P, se o programa adquire experiência E na tarefa T seu desempenho P aumenta em função de E.\" (tradução livre)\n",
    "\n",
    "Considerando um jogo de xadrez \n",
    "\n",
    "* E = Experiencia do algorítmo em jogos de xadrez\n",
    "* T = Tarefa de jogar xadrez\n",
    "* P = Probabilidade de vencer o proximo jogo\n",
    "\n",
    "![image.png](https://slideplayer.com.br/slide/358312/2/images/35/Curva+de+aprendizagem.jpg)\n",
    "\n"
   ]
  },
  {
   "cell_type": "markdown",
   "metadata": {},
   "source": [
    "## Porquê estudar machine learning\n",
    "\n",
    "Existem problemas que consistem em encontrar padrões em dados são possíveis apenas para cérebros humanos, porém quanto maior a quantidade de dados disponíveis maior o tempo disprendido para que a tarefa seja realizada, neste ponto que a machine learning entra em ação. O objetivo do machine learning é tornar possível que a máquina aprenda por sí mesma de forma semelhante a humana, tal estratégia deu tão certo que o machine learning está presente em tantos segmentos de tecnologia que nem percebemos."
   ]
  },
  {
   "cell_type": "markdown",
   "metadata": {},
   "source": [
    "## Tipos de Machine Learning\n",
    "\n",
    "+ *** Aprendizado Supervisionado ***\n",
    "+ *** Aprensizado não supervisionado ***\n",
    "+ *** Aprendizado por reforço ***\n",
    "\n",
    "\n"
   ]
  },
  {
   "cell_type": "markdown",
   "metadata": {},
   "source": [
    "EM CONSTRUÇÃO\n",
    "\n",
    "\n",
    "RASCUNHO GABS\n",
    "\n",
    "\n",
    "REFERENCIAS \n",
    "\n",
    "https://towardsdatascience.com/decision-trees-in-machine-learning-641b9c4e8052\n",
    "\n",
    "https://towardsdatascience.com/introduction-to-machine-learning-db7c668822c4\n",
    "\n",
    "https://towardsdatascience.com/machine-learning/home\n",
    "\n",
    "https://www.kaggle.com/geomack/spotifyclassification\n"
   ]
  }
 ],
 "metadata": {
  "kernelspec": {
   "display_name": "Python 3",
   "language": "python",
   "name": "python3"
  },
  "language_info": {
   "codemirror_mode": {
    "name": "ipython",
    "version": 3
   },
   "file_extension": ".py",
   "mimetype": "text/x-python",
   "name": "python",
   "nbconvert_exporter": "python",
   "pygments_lexer": "ipython3",
   "version": "3.6.5"
  }
 },
 "nbformat": 4,
 "nbformat_minor": 2
}
