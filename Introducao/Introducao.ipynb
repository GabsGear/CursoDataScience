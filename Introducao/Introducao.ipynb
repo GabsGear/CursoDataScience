{
 "cells": [
  {
   "cell_type": "markdown",
   "metadata": {},
   "source": [
    "### ARARA MakerSpace - Introdução a Data Science com Python\n",
    "## Aula  1  - Data Science\n",
    "___________________________________________________________________________________________________________________\n",
    "![Dt001 Logo](images/img001.png)"
   ]
  },
  {
   "cell_type": "markdown",
   "metadata": {},
   "source": [
    "### O que é Data Science? \n",
    "![Dt002 Logo](images/img002.png)"
   ]
  },
  {
   "cell_type": "markdown",
   "metadata": {},
   "source": [
    "### O que estuda?\n",
    "![Dt003 Logo](images/img003.jpg)\n",
    "![Dt003 Logo](images/img25.png)"
   ]
  },
  {
   "cell_type": "markdown",
   "metadata": {},
   "source": [
    "### Quanto paga?\n",
    "![Dt003 Logo](images/img036.png)\n",
    "![Dt003 Logo](images/img037.png)\n",
    "\n",
    "### Quanto paga no Brasil?\n",
    "![Dt003 Logo](images/img038.png)"
   ]
  },
  {
   "cell_type": "markdown",
   "metadata": {},
   "source": [
    "### Mitos e verdades:\n",
    "![Dt003 Logo](images/img004.jpg)"
   ]
  },
  {
   "cell_type": "markdown",
   "metadata": {},
   "source": [
    "### Leis:\n",
    "![Dt003 Logo](images/img006.png)"
   ]
  },
  {
   "cell_type": "markdown",
   "metadata": {},
   "source": [
    "### Ferramentas básicas:\n",
    "![Dt002 Logo](images/img005.jpeg)"
   ]
  },
  {
   "cell_type": "markdown",
   "metadata": {},
   "source": [
    "### Outras:\n",
    "![Dt002 Logo](images/img008.png)"
   ]
  },
  {
   "cell_type": "markdown",
   "metadata": {},
   "source": [
    "### E o python?\n",
    "![Dt002 Logo](images/img010.jpg)"
   ]
  },
  {
   "cell_type": "markdown",
   "metadata": {},
   "source": [
    "### Porquê python é o futuro?\n",
    "\n",
    "***Easy to learn***\n",
    "The most alluring factor of Python is that anyone aspiring to learn this language can learn it easily and quickly. When compared to other data science languages like R, Python promotes a shorter learning curve and scores over others by promoting an easy-to-understand syntax.\n",
    "\n",
    "***Scalability***\n",
    "When compared to other languages like R, Python has established a lead by emerging as a scalable language, and it is faster than other languages like Matlab and Stata. Python’s scalability lies in the flexibility that it gives to solve problems, as in the case of YouTube that migrated to Python. Python has come good for different usages in different industries and for rapid development of applications of all kinds.\n",
    "\n",
    "***Choice of data science libraries***\n",
    "The significant factor giving the push for Python is the variety of data science/data analytics libraries made available for the aspirants. Pandas, StatsModels, NumPy, SciPy, and Scikit-Learn, are some of the libraries well known in the data science community. Python does not stop with that as libraries have been growing over time. What you thought was a constraint a year ago would be addressed well by Python with a robust solution addressing problems of specific nature.\n",
    "\n",
    "***Python community***\n",
    "One of the reasons for the phenomenal rise of Python is attributed to its ecosystem. As Python extends its reach to the data science community, more and more volunteers are creating data science libraries. This, in turn, has led the way for creating the most modern tools and processing in Python.\n",
    "\n",
    "The widespread and involved community promotes easy access for aspirants who want to find solutions to their coding problems. Whatever queries you need, it is a click or a Google search away. Enthusiasts can also find access to professionals on Codementor and Stack Overflow to find the right answers for their queries.\n",
    "\n",
    "***Graphics and visualization***\n",
    "Python comes with varied visualization options. Matplotlib provides the solid foundation around which other libraries like Seaborn, pandas plotting, and ggplot have been built. The visualization packages help you get a good sense of data, create charts, graphical plot and create web-ready interactive plots.\n",
    "\n"
   ]
  },
  {
   "cell_type": "code",
   "execution_count": null,
   "metadata": {
    "collapsed": true
   },
   "outputs": [],
   "source": []
  }
 ],
 "metadata": {
  "kernelspec": {
   "display_name": "Python 3",
   "language": "python",
   "name": "python3"
  },
  "language_info": {
   "codemirror_mode": {
    "name": "ipython",
    "version": 3
   },
   "file_extension": ".py",
   "mimetype": "text/x-python",
   "name": "python",
   "nbconvert_exporter": "python",
   "pygments_lexer": "ipython3",
   "version": "3.5.4rc1"
  }
 },
 "nbformat": 4,
 "nbformat_minor": 2
}
