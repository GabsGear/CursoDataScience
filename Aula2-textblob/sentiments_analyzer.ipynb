{
 "cells": [
  {
   "cell_type": "markdown",
   "metadata": {},
   "source": [
    "# Aula 2 \n",
    "#### Análise de Sentimentos de tweets com textblob\n",
    "\n",
    "Uma forma muito útil afim de recolher dados de algum assunto requerido é a ultilização de interpretação de linguagem natural, nesta aula vamos aplicar tal técnica em dados baixados do twitter.\n",
    "\n",
    "Para baixar os tweets em tempo real você precisa de uma conta de desenvolvedor que pode ser criada [aqui](\"https://developer.twitter.com\")\n",
    "Caso não tenha a conta você pode baixar seus datasets para treino [aqui](\"https://twitter-sentiment-csv.herokuapp.com\")\n",
    "\n",
    "A biblioteca ultilizada para realizar as análises é a [textblob](\"https://textblob.readthedocs.io/en/dev/\") essa biblioteca realiza análize de linguagem de uma forma muito simples de usar, clique [aqui](\"https://textblob.readthedocs.io/en/dev/install.html\") e siga os passos para instalação. Existem outras bibliotecas mais complexas com muitas outras funções para reconhecimento e interpretaação de linguagem natural, se você quer se aprofundar nesse conteúdo vale a pena dar uma olhada pois tais bibliotecas são ultilizadas em aplicações reais e robustas, nosso exemplo é didático.\n",
    "\n",
    "* [NLTK](\"https://www.nltk.org\")\n",
    "* [SPACY](\"https://spacy.io\")\n",
    "\n",
    "\n",
    "#### Primeiro vamos ver como textblob funciona com alguns comandos básicos para trabalhar com strings\n"
   ]
  },
  {
   "cell_type": "code",
   "execution_count": 1,
   "metadata": {
    "collapsed": false
   },
   "outputs": [
    {
     "data": {
      "text/plain": [
       "TextBlob(\"Arara \")"
      ]
     },
     "execution_count": 1,
     "metadata": {},
     "output_type": "execute_result"
    }
   ],
   "source": [
    "from textblob import TextBlob as tb\n",
    "string = tb(\"Arara Makerspace\")\n",
    "string[0:6]      #pega posição 0 até 6"
   ]
  },
  {
   "cell_type": "code",
   "execution_count": 2,
   "metadata": {
    "collapsed": false
   },
   "outputs": [
    {
     "data": {
      "text/plain": [
       "TextBlob(\"ARARA MAKERSPACE\")"
      ]
     },
     "execution_count": 2,
     "metadata": {},
     "output_type": "execute_result"
    }
   ],
   "source": [
    "string.upper()  #passa pra maiusculo "
   ]
  },
  {
   "cell_type": "code",
   "execution_count": 3,
   "metadata": {
    "collapsed": false
   },
   "outputs": [
    {
     "data": {
      "text/plain": [
       "TextBlob(\"Arara Makerspace - Luan para presidente\")"
      ]
     },
     "execution_count": 3,
     "metadata": {},
     "output_type": "execute_result"
    }
   ],
   "source": [
    "string2 = tb(\" - Luan para presidente\") \n",
    "string + string2 #concatena as strings"
   ]
  },
  {
   "cell_type": "markdown",
   "metadata": {},
   "source": [
    "## Tokenização\n",
    "\n",
    "O textblob transforma as mensagens em uma sequencia tokens para que assim elas possam ser processadas.\n",
    "Criando um objeto do tipo tb (textblob) e ultilizando o metodo sentences pode-se ver as sentenças tokenizadas."
   ]
  },
  {
   "cell_type": "code",
   "execution_count": 4,
   "metadata": {
    "collapsed": false
   },
   "outputs": [
    {
     "data": {
      "text/plain": [
       "[Sentence(\"Luan Manao is a wonderful person, he should be our president.\")]"
      ]
     },
     "execution_count": 4,
     "metadata": {},
     "output_type": "execute_result"
    }
   ],
   "source": [
    "blob = tb(\"Luan Manao is a wonderful person, he should be our president.\")\n",
    "blob.sentences"
   ]
  },
  {
   "cell_type": "markdown",
   "metadata": {},
   "source": [
    "#### Em um laço for podemos visualizar as sentenças separadamente"
   ]
  },
  {
   "cell_type": "code",
   "execution_count": 5,
   "metadata": {
    "collapsed": false
   },
   "outputs": [
    {
     "name": "stdout",
     "output_type": "stream",
     "text": [
      "Luan\n",
      "Manao\n",
      "is\n",
      "a\n",
      "wonderful\n",
      "person\n",
      "he\n",
      "should\n",
      "be\n",
      "our\n",
      "president\n"
     ]
    }
   ],
   "source": [
    "for words in blob.sentences[0].words:  ## imprime as palavras da primeira sentença\n",
    " print (words)"
   ]
  },
  {
   "cell_type": "markdown",
   "metadata": {},
   "source": [
    "### Extraindo substantivos\n",
    "Como extraímos as palavras da seção anterior, em vez disso, podemos extrair as frases nominais do textblob. A extração de frase de substantivo é particularmente importante quando você deseja analisar o “quem” em uma frase. Vamos ver um exemplo abaixo."
   ]
  },
  {
   "cell_type": "code",
   "execution_count": 6,
   "metadata": {
    "collapsed": false
   },
   "outputs": [
    {
     "name": "stdout",
     "output_type": "stream",
     "text": [
      "luan manao\n",
      "wonderful person\n"
     ]
    }
   ],
   "source": [
    "for np in blob.noun_phrases:\n",
    " print (np)"
   ]
  },
  {
   "cell_type": "markdown",
   "metadata": {
    "collapsed": true
   },
   "source": [
    "## Análise de sentimentos\n",
    "\n",
    "A análise de sentimentos basicamente captura as sentenças na frase e processa elas para verificar verificar o contexto assim determinando se a emoção é positiva, negativa ou neutra.\n",
    "\n",
    "A função sentiment do textblob retorna dois valores, ***polarity***, e ***subjectivity***\n",
    "\n",
    "***polarity*** Varia de -1 a 1, onde 1 representa um sentimento positivo e -1 negativo.\n",
    "***Subjectivity*** Varia de 0 a 1 e esta relacionado a opinião, quanto maior maior a probabilidade de que a sentença seja uma opinião pessoal."
   ]
  },
  {
   "cell_type": "code",
   "execution_count": 7,
   "metadata": {
    "collapsed": false
   },
   "outputs": [
    {
     "data": {
      "text/plain": [
       "Sentiment(polarity=1.0, subjectivity=1.0)"
      ]
     },
     "execution_count": 7,
     "metadata": {},
     "output_type": "execute_result"
    }
   ],
   "source": [
    "blob.sentiment"
   ]
  },
  {
   "cell_type": "markdown",
   "metadata": {},
   "source": [
    "#### Obtivemos nessa sentença 1 e 1, onde a polatiry 1 representa que estamos falando bem de luan e subjective representa que é uma opinião pessoal, não uma constatação.\n",
    "\n",
    "#### Agora vamos alterar a sentença e verificar o resultado"
   ]
  },
  {
   "cell_type": "code",
   "execution_count": 8,
   "metadata": {
    "collapsed": false
   },
   "outputs": [
    {
     "data": {
      "text/plain": [
       "Sentiment(polarity=-0.3, subjectivity=0.8)"
      ]
     },
     "execution_count": 8,
     "metadata": {},
     "output_type": "execute_result"
    }
   ],
   "source": [
    "blob = tb(\"Luan is a sucker, I never want to talk about this asshole anymore.\")\n",
    "blob.sentiment"
   ]
  },
  {
   "cell_type": "markdown",
   "metadata": {},
   "source": [
    "#### Obtivemos nessa sentença -0.3 e 1, onde a polatiry negativa representa que estamos falando mal de luan e subjective em 0.8 representa que é uma opinião pessoal, não uma constatação."
   ]
  },
  {
   "cell_type": "markdown",
   "metadata": {
    "collapsed": true
   },
   "source": [
    "# Tradutor nativo"
   ]
  },
  {
   "cell_type": "markdown",
   "metadata": {},
   "source": [
    "O textblob também tem uma ferramenta de tradução, e isso é muito útil pois a base de dados esta treinada para ter o melhor funcionamento em ingles, portanto antes de fazer a análise traduzimos ultilizando o textblob para ingles. A função detect_language já detecta automaticamente o idioma nativo.\n"
   ]
  },
  {
   "cell_type": "code",
   "execution_count": 9,
   "metadata": {
    "collapsed": false
   },
   "outputs": [
    {
     "data": {
      "text/plain": [
       "'pt'"
      ]
     },
     "execution_count": 9,
     "metadata": {},
     "output_type": "execute_result"
    }
   ],
   "source": [
    "blob = tb(\"O gabriel com certeza é a pessoa mais legal do makerspace\")\n",
    "blob.detect_language()"
   ]
  },
  {
   "cell_type": "markdown",
   "metadata": {},
   "source": [
    "***Para traduzir ultilizamos o comando translate***"
   ]
  },
  {
   "cell_type": "code",
   "execution_count": 10,
   "metadata": {
    "collapsed": false
   },
   "outputs": [
    {
     "data": {
      "text/plain": [
       "TextBlob(\"Gabriel is certainly the coolest person on the makerspace.\")"
      ]
     },
     "execution_count": 10,
     "metadata": {},
     "output_type": "execute_result"
    }
   ],
   "source": [
    "blob.translate(from_lang='pt', to ='en')"
   ]
  },
  {
   "cell_type": "markdown",
   "metadata": {},
   "source": [
    "*** Em seguida realizamos a análise***"
   ]
  },
  {
   "cell_type": "code",
   "execution_count": 11,
   "metadata": {
    "collapsed": false
   },
   "outputs": [
    {
     "data": {
      "text/plain": [
       "Sentiment(polarity=0.2, subjectivity=0.2)"
      ]
     },
     "execution_count": 11,
     "metadata": {},
     "output_type": "execute_result"
    }
   ],
   "source": [
    "blob.sentiment"
   ]
  },
  {
   "cell_type": "markdown",
   "metadata": {},
   "source": [
    "Analisando o resultado obtemos 0.2 e 0.2, que por sua vez indica que o sentimento é positivo sobre Gabriel e como subjectivity é baixo não se trata de uma opinião pessoal e sim uma constatação. ***Atenção, palavras como certamente influenciam diretamente o subjectivity***"
   ]
  },
  {
   "cell_type": "markdown",
   "metadata": {},
   "source": [
    "# Vamos aplicar esses conceitos\n",
    "\n",
    "Usando um csv gerado a partir de tweets recentes podemos classificar várias  frases e trabalhar gerando conclucões com o pandas"
   ]
  },
  {
   "cell_type": "code",
   "execution_count": 12,
   "metadata": {
    "collapsed": false
   },
   "outputs": [
    {
     "data": {
      "text/html": [
       "<div>\n",
       "<style scoped>\n",
       "    .dataframe tbody tr th:only-of-type {\n",
       "        vertical-align: middle;\n",
       "    }\n",
       "\n",
       "    .dataframe tbody tr th {\n",
       "        vertical-align: top;\n",
       "    }\n",
       "\n",
       "    .dataframe thead th {\n",
       "        text-align: right;\n",
       "    }\n",
       "</style>\n",
       "<table border=\"1\" class=\"dataframe\">\n",
       "  <thead>\n",
       "    <tr style=\"text-align: right;\">\n",
       "      <th></th>\n",
       "      <th>text</th>\n",
       "      <th>user</th>\n",
       "      <th>Unnamed: 2</th>\n",
       "      <th>Unnamed: 3</th>\n",
       "    </tr>\n",
       "  </thead>\n",
       "  <tbody>\n",
       "    <tr>\n",
       "      <th>0</th>\n",
       "      <td>How to #Study #MachineLearning by @sirajraval ...</td>\n",
       "      <td>Tableteer</td>\n",
       "      <td>NaN</td>\n",
       "      <td>NaN</td>\n",
       "    </tr>\n",
       "    <tr>\n",
       "      <th>1</th>\n",
       "      <td>@KirkDBorne @ShareInsights_ @KirkDBorne Thanks...</td>\n",
       "      <td>davecherry</td>\n",
       "      <td>NaN</td>\n",
       "      <td>NaN</td>\n",
       "    </tr>\n",
       "    <tr>\n",
       "      <th>2</th>\n",
       "      <td>RT @rdpeng: Science starts with a question. Da...</td>\n",
       "      <td>QuantInnovate</td>\n",
       "      <td>NaN</td>\n",
       "      <td>NaN</td>\n",
       "    </tr>\n",
       "    <tr>\n",
       "      <th>3</th>\n",
       "      <td>RT @rdpeng: Science starts with a question. Da...</td>\n",
       "      <td>hianalytics</td>\n",
       "      <td>NaN</td>\n",
       "      <td>NaN</td>\n",
       "    </tr>\n",
       "    <tr>\n",
       "      <th>4</th>\n",
       "      <td>RT @ekomudoh: Please  I am seeking a Data Scie...</td>\n",
       "      <td>OduntanBolanle</td>\n",
       "      <td>NaN</td>\n",
       "      <td>NaN</td>\n",
       "    </tr>\n",
       "  </tbody>\n",
       "</table>\n",
       "</div>"
      ],
      "text/plain": [
       "                                                text            user  \\\n",
       "0  How to #Study #MachineLearning by @sirajraval ...       Tableteer   \n",
       "1  @KirkDBorne @ShareInsights_ @KirkDBorne Thanks...      davecherry   \n",
       "2  RT @rdpeng: Science starts with a question. Da...   QuantInnovate   \n",
       "3  RT @rdpeng: Science starts with a question. Da...     hianalytics   \n",
       "4  RT @ekomudoh: Please  I am seeking a Data Scie...  OduntanBolanle   \n",
       "\n",
       "   Unnamed: 2 Unnamed: 3  \n",
       "0         NaN        NaN  \n",
       "1         NaN        NaN  \n",
       "2         NaN        NaN  \n",
       "3         NaN        NaN  \n",
       "4         NaN        NaN  "
      ]
     },
     "execution_count": 12,
     "metadata": {},
     "output_type": "execute_result"
    }
   ],
   "source": [
    "import pandas as pd\n",
    "tweets = pd.read_csv(\"data_science.csv\")\n",
    "tweets.head()"
   ]
  },
  {
   "cell_type": "markdown",
   "metadata": {},
   "source": [
    "#### Removemos as colunas não ultilizadas, inclusive username"
   ]
  },
  {
   "cell_type": "code",
   "execution_count": 13,
   "metadata": {
    "collapsed": false
   },
   "outputs": [
    {
     "data": {
      "text/html": [
       "<div>\n",
       "<style scoped>\n",
       "    .dataframe tbody tr th:only-of-type {\n",
       "        vertical-align: middle;\n",
       "    }\n",
       "\n",
       "    .dataframe tbody tr th {\n",
       "        vertical-align: top;\n",
       "    }\n",
       "\n",
       "    .dataframe thead th {\n",
       "        text-align: right;\n",
       "    }\n",
       "</style>\n",
       "<table border=\"1\" class=\"dataframe\">\n",
       "  <thead>\n",
       "    <tr style=\"text-align: right;\">\n",
       "      <th></th>\n",
       "      <th>text</th>\n",
       "    </tr>\n",
       "  </thead>\n",
       "  <tbody>\n",
       "    <tr>\n",
       "      <th>0</th>\n",
       "      <td>How to #Study #MachineLearning by @sirajraval ...</td>\n",
       "    </tr>\n",
       "    <tr>\n",
       "      <th>1</th>\n",
       "      <td>@KirkDBorne @ShareInsights_ @KirkDBorne Thanks...</td>\n",
       "    </tr>\n",
       "    <tr>\n",
       "      <th>2</th>\n",
       "      <td>RT @rdpeng: Science starts with a question. Da...</td>\n",
       "    </tr>\n",
       "    <tr>\n",
       "      <th>3</th>\n",
       "      <td>RT @rdpeng: Science starts with a question. Da...</td>\n",
       "    </tr>\n",
       "    <tr>\n",
       "      <th>4</th>\n",
       "      <td>RT @ekomudoh: Please  I am seeking a Data Scie...</td>\n",
       "    </tr>\n",
       "  </tbody>\n",
       "</table>\n",
       "</div>"
      ],
      "text/plain": [
       "                                                text\n",
       "0  How to #Study #MachineLearning by @sirajraval ...\n",
       "1  @KirkDBorne @ShareInsights_ @KirkDBorne Thanks...\n",
       "2  RT @rdpeng: Science starts with a question. Da...\n",
       "3  RT @rdpeng: Science starts with a question. Da...\n",
       "4  RT @ekomudoh: Please  I am seeking a Data Scie..."
      ]
     },
     "execution_count": 13,
     "metadata": {},
     "output_type": "execute_result"
    }
   ],
   "source": [
    "#remove análise realizada anteriormente\n",
    "tweets = tweets.drop('Unnamed: 2', 1)\n",
    "tweets = tweets.drop('Unnamed: 3', 1)\n",
    "tweets = tweets.drop('user', 1)\n",
    "tweets.head()"
   ]
  },
  {
   "cell_type": "markdown",
   "metadata": {},
   "source": [
    "#### Observe que temos @, #, URLS, username e etc, precisamos limpar esses dados, para isso já preparamos anteriormente um script para limpar esses dados"
   ]
  },
  {
   "cell_type": "code",
   "execution_count": 14,
   "metadata": {
    "collapsed": false
   },
   "outputs": [
    {
     "data": {
      "text/html": [
       "<div>\n",
       "<style scoped>\n",
       "    .dataframe tbody tr th:only-of-type {\n",
       "        vertical-align: middle;\n",
       "    }\n",
       "\n",
       "    .dataframe tbody tr th {\n",
       "        vertical-align: top;\n",
       "    }\n",
       "\n",
       "    .dataframe thead th {\n",
       "        text-align: right;\n",
       "    }\n",
       "</style>\n",
       "<table border=\"1\" class=\"dataframe\">\n",
       "  <thead>\n",
       "    <tr style=\"text-align: right;\">\n",
       "      <th></th>\n",
       "      <th>text</th>\n",
       "    </tr>\n",
       "  </thead>\n",
       "  <tbody>\n",
       "    <tr>\n",
       "      <th>0</th>\n",
       "      <td>how to study machinelearning by – frank's worl...</td>\n",
       "    </tr>\n",
       "    <tr>\n",
       "      <th>1</th>\n",
       "      <td>thanks for sharing data storytelling is often ...</td>\n",
       "    </tr>\n",
       "    <tr>\n",
       "      <th>2</th>\n",
       "      <td>rt science starts with a question data science...</td>\n",
       "    </tr>\n",
       "    <tr>\n",
       "      <th>3</th>\n",
       "      <td>rt science starts with a question data science...</td>\n",
       "    </tr>\n",
       "    <tr>\n",
       "      <th>4</th>\n",
       "      <td>rt please i am seeking a data science/data ana...</td>\n",
       "    </tr>\n",
       "  </tbody>\n",
       "</table>\n",
       "</div>"
      ],
      "text/plain": [
       "                                                text\n",
       "0  how to study machinelearning by – frank's worl...\n",
       "1  thanks for sharing data storytelling is often ...\n",
       "2  rt science starts with a question data science...\n",
       "3  rt science starts with a question data science...\n",
       "4  rt please i am seeking a data science/data ana..."
      ]
     },
     "execution_count": 14,
     "metadata": {},
     "output_type": "execute_result"
    }
   ],
   "source": [
    "import limpadata \n",
    "#limpa os dados, removr @, RT, URLS e afins\n",
    "tweets = limpadata.cleanData(tweets)\n",
    "#remove coluna auxiliar criada pela função limpadata\n",
    "tweets = tweets.drop('tweetos', 1)\n",
    "tweets.head()"
   ]
  },
  {
   "cell_type": "markdown",
   "metadata": {},
   "source": [
    "### Agora ultiliza-se o método sentiment.polarity para pegar somente a polarity dos tweets do banco dataframe, percorrendo todos os tweets, analizando e contabilizando todos, salvamos os resultados em um vetor"
   ]
  },
  {
   "cell_type": "code",
   "execution_count": 15,
   "metadata": {
    "collapsed": false
   },
   "outputs": [],
   "source": [
    "pol =  []\n",
    "for tw in tweets['text']:\n",
    "    analysis = tb(tw)\n",
    "    pol.append(analysis.sentiment.polarity)"
   ]
  },
  {
   "cell_type": "markdown",
   "metadata": {},
   "source": [
    "#### Após  contabilizar salvamos o resultado no dataframe"
   ]
  },
  {
   "cell_type": "code",
   "execution_count": 16,
   "metadata": {
    "collapsed": false
   },
   "outputs": [],
   "source": [
    "tweets['polarity'] = pol"
   ]
  },
  {
   "cell_type": "code",
   "execution_count": 17,
   "metadata": {
    "collapsed": false
   },
   "outputs": [
    {
     "data": {
      "text/html": [
       "<div>\n",
       "<style scoped>\n",
       "    .dataframe tbody tr th:only-of-type {\n",
       "        vertical-align: middle;\n",
       "    }\n",
       "\n",
       "    .dataframe tbody tr th {\n",
       "        vertical-align: top;\n",
       "    }\n",
       "\n",
       "    .dataframe thead th {\n",
       "        text-align: right;\n",
       "    }\n",
       "</style>\n",
       "<table border=\"1\" class=\"dataframe\">\n",
       "  <thead>\n",
       "    <tr style=\"text-align: right;\">\n",
       "      <th></th>\n",
       "      <th>text</th>\n",
       "      <th>polarity</th>\n",
       "    </tr>\n",
       "  </thead>\n",
       "  <tbody>\n",
       "    <tr>\n",
       "      <th>0</th>\n",
       "      <td>how to study machinelearning by – frank's worl...</td>\n",
       "      <td>0.000000</td>\n",
       "    </tr>\n",
       "    <tr>\n",
       "      <th>1</th>\n",
       "      <td>thanks for sharing data storytelling is often ...</td>\n",
       "      <td>0.000000</td>\n",
       "    </tr>\n",
       "    <tr>\n",
       "      <th>2</th>\n",
       "      <td>rt science starts with a question data science...</td>\n",
       "      <td>-0.291667</td>\n",
       "    </tr>\n",
       "    <tr>\n",
       "      <th>3</th>\n",
       "      <td>rt science starts with a question data science...</td>\n",
       "      <td>-0.291667</td>\n",
       "    </tr>\n",
       "    <tr>\n",
       "      <th>4</th>\n",
       "      <td>rt please i am seeking a data science/data ana...</td>\n",
       "      <td>-0.200000</td>\n",
       "    </tr>\n",
       "  </tbody>\n",
       "</table>\n",
       "</div>"
      ],
      "text/plain": [
       "                                                text  polarity\n",
       "0  how to study machinelearning by – frank's worl...  0.000000\n",
       "1  thanks for sharing data storytelling is often ...  0.000000\n",
       "2  rt science starts with a question data science... -0.291667\n",
       "3  rt science starts with a question data science... -0.291667\n",
       "4  rt please i am seeking a data science/data ana... -0.200000"
      ]
     },
     "execution_count": 17,
     "metadata": {},
     "output_type": "execute_result"
    }
   ],
   "source": [
    "tweets.head()"
   ]
  },
  {
   "cell_type": "markdown",
   "metadata": {},
   "source": [
    "#### Já podemos realizar algumas análises, com describe obtêm-se o resumo estatístico"
   ]
  },
  {
   "cell_type": "code",
   "execution_count": 18,
   "metadata": {
    "collapsed": false
   },
   "outputs": [
    {
     "data": {
      "text/plain": [
       "count    100.000000\n",
       "mean       0.092283\n",
       "std        0.266443\n",
       "min       -0.400000\n",
       "25%        0.000000\n",
       "50%        0.000000\n",
       "75%        0.152273\n",
       "max        0.800000\n",
       "Name: polarity, dtype: float64"
      ]
     },
     "execution_count": 18,
     "metadata": {},
     "output_type": "execute_result"
    }
   ],
   "source": [
    "tweets.polarity.describe()"
   ]
  },
  {
   "cell_type": "code",
   "execution_count": 38,
   "metadata": {
    "collapsed": false
   },
   "outputs": [
    {
     "name": "stdout",
     "output_type": "stream",
     "text": [
      "Tweets positivos: 37\n",
      "Tweets negativos: 14\n",
      "Tweets neutral: 49\n"
     ]
    }
   ],
   "source": [
    "positives = tweets[tweets['polarity'] > 0].count()\n",
    "negatives = tweets[tweets['polarity'] < 0].count()\n",
    "neutral = tweets[tweets['polarity'] == 0].count()\n",
    "\n",
    "print(\"Tweets positivos: \" + str(positives.text))\n",
    "print(\"Tweets negativos: \" + str(negatives.text))\n",
    "print(\"Tweets neutral: \" + str(neutral.text))"
   ]
  },
  {
   "cell_type": "code",
   "execution_count": null,
   "metadata": {
    "collapsed": true
   },
   "outputs": [],
   "source": []
  }
 ],
 "metadata": {
  "kernelspec": {
   "display_name": "Python 3",
   "language": "python",
   "name": "python3"
  },
  "language_info": {
   "codemirror_mode": {
    "name": "ipython",
    "version": 3
   },
   "file_extension": ".py",
   "mimetype": "text/x-python",
   "name": "python",
   "nbconvert_exporter": "python",
   "pygments_lexer": "ipython3",
   "version": "3.5.4rc1"
  }
 },
 "nbformat": 4,
 "nbformat_minor": 2
}
