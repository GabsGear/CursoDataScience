{
 "cells": [
  {
   "cell_type": "markdown",
   "metadata": {},
   "source": [
    "### Aula 2 \n",
    "#### Análise de Sentimentos de tweets com textblob\n",
    "\n",
    "Uma forma muito útil afim de recolher dados de algum assunto requerido é a ultilização de interpretação de linguagem natural, nesta aula vamos aplicar tal técnica em dados baixados do twitter.\n",
    "\n",
    "Para baixar os tweets em tempo real você precisa de uma conta de desenvolvedor que pode ser criada [aqui](\"https://developer.twitter.com\")\n",
    "Caso não tenha a conta você pode baixar seus datasets para treino [aqui](\"https://twitter-sentiment-csv.herokuapp.com\")\n",
    "\n",
    "A biblioteca ultilizada para realizar as análises é a [textblob](\"https://textblob.readthedocs.io/en/dev/\") essa biblioteca realiza análize de linguagem de uma forma muito simples de usar, clique [aqui](\"https://textblob.readthedocs.io/en/dev/install.html\") e siga os passos para instalação. Existem outras bibliotecas mais complexas com muitas outras funções para reconhecimento e interpretaação de linguagem natural, se você quer se aprofundar nesse conteúdo vale a pena dar uma olhada pois tais bibliotecas são ultilizadas em aplicações reais e robustas, nosso exemplo é didático.\n",
    "\n",
    "* [NLTK](\"https://www.nltk.org\")\n",
    "* [SPACY](\"https://spacy.io\")\n",
    "\n",
    "\n",
    "#### Primeiro vamos ver como textblob funciona com alguns comandos básicos para trabalhar com strings\n"
   ]
  },
  {
   "cell_type": "code",
   "execution_count": 2,
   "metadata": {
    "collapsed": false
   },
   "outputs": [
    {
     "data": {
      "text/plain": [
       "TextBlob(\"Arara \")"
      ]
     },
     "execution_count": 2,
     "metadata": {},
     "output_type": "execute_result"
    }
   ],
   "source": [
    "from textblob import TextBlob as tb\n",
    "string = tb(\"Arara Makerspace\")\n",
    "string[0:6]      #pega posição 0 até 6"
   ]
  },
  {
   "cell_type": "code",
   "execution_count": 3,
   "metadata": {
    "collapsed": false
   },
   "outputs": [
    {
     "data": {
      "text/plain": [
       "TextBlob(\"ARARA MAKERSPACE\")"
      ]
     },
     "execution_count": 3,
     "metadata": {},
     "output_type": "execute_result"
    }
   ],
   "source": [
    "string.upper()  #passa pra maiusculo "
   ]
  },
  {
   "cell_type": "code",
   "execution_count": 4,
   "metadata": {
    "collapsed": false
   },
   "outputs": [
    {
     "data": {
      "text/plain": [
       "TextBlob(\"Arara Makerspace - Luan para presidente\")"
      ]
     },
     "execution_count": 4,
     "metadata": {},
     "output_type": "execute_result"
    }
   ],
   "source": [
    "string2 = tb(\" - Luan para presidente\") \n",
    "string + string2 #concatena as strings"
   ]
  },
  {
   "cell_type": "markdown",
   "metadata": {},
   "source": [
    "## Tokenização\n",
    "\n",
    "O textblob transforma as mensagens em uma sequencia tokens para que assim elas possam ser processadas.\n",
    "Criando um objeto do tipo tb (textblob) e ultilizando o metodo sentences pode-se ver as sentenças tokenizadas."
   ]
  },
  {
   "cell_type": "code",
   "execution_count": 5,
   "metadata": {
    "collapsed": false
   },
   "outputs": [
    {
     "data": {
      "text/plain": [
       "[Sentence(\"Luan Manao is a wonderful person, he should be our president.\")]"
      ]
     },
     "execution_count": 5,
     "metadata": {},
     "output_type": "execute_result"
    }
   ],
   "source": [
    "blob = tb(\"Luan Manao is a wonderful person, he should be our president.\")\n",
    "blob.sentences"
   ]
  },
  {
   "cell_type": "markdown",
   "metadata": {},
   "source": [
    "#### Em um laço for podemos visualizar as sentenças separadamente"
   ]
  },
  {
   "cell_type": "code",
   "execution_count": 6,
   "metadata": {
    "collapsed": false
   },
   "outputs": [
    {
     "name": "stdout",
     "output_type": "stream",
     "text": [
      "Luan\n",
      "Manao\n",
      "is\n",
      "a\n",
      "wonderful\n",
      "person\n",
      "he\n",
      "should\n",
      "be\n",
      "our\n",
      "president\n"
     ]
    }
   ],
   "source": [
    "for words in blob.sentences[0].words:  ## imprime as palavras da primeira sentença\n",
    " print (words)"
   ]
  },
  {
   "cell_type": "markdown",
   "metadata": {},
   "source": [
    "### Extraindo substantivos\n",
    "Como extraímos as palavras da seção anterior, em vez disso, podemos extrair as frases nominais do textblob. A extração de frase de substantivo é particularmente importante quando você deseja analisar o “quem” em uma frase. Vamos ver um exemplo abaixo."
   ]
  },
  {
   "cell_type": "code",
   "execution_count": 7,
   "metadata": {
    "collapsed": false
   },
   "outputs": [
    {
     "name": "stdout",
     "output_type": "stream",
     "text": [
      "luan manao\n",
      "wonderful person\n"
     ]
    }
   ],
   "source": [
    "for np in blob.noun_phrases:\n",
    " print (np)"
   ]
  },
  {
   "cell_type": "markdown",
   "metadata": {
    "collapsed": true
   },
   "source": [
    "## Análise de sentimentos\n",
    "\n",
    "A análise de sentimentos basicamente captura as sentenças na frase e processa elas para verificar verificar o contexto assim determinando se a emoção é positiva, negativa ou neutra.\n",
    "\n",
    "A função sentiment do textblob retorna dois valores, ***polarity***, e ***subjectivity***\n",
    "\n",
    "***polarity*** Varia de -1 a 1, onde 1 representa um sentimento positivo e -1 negativo.\n",
    "***Subjectivity*** Varia de 0 a 1 e esta relacionado a opinião, quanto maior maior a probabilidade de que a sentença seja uma opinião pessoal."
   ]
  },
  {
   "cell_type": "code",
   "execution_count": 8,
   "metadata": {
    "collapsed": false
   },
   "outputs": [
    {
     "data": {
      "text/plain": [
       "Sentiment(polarity=1.0, subjectivity=1.0)"
      ]
     },
     "execution_count": 8,
     "metadata": {},
     "output_type": "execute_result"
    }
   ],
   "source": [
    "blob.sentiment"
   ]
  },
  {
   "cell_type": "markdown",
   "metadata": {},
   "source": [
    "#### Obtivemos nessa sentença 1 e 1, onde a polatiry 1 representa que estamos falando bem de luan e subjective representa que é uma opinião pessoal, não uma constatação.\n",
    "\n",
    "#### Agora vamos alterar a sentença e verificar o resultado"
   ]
  },
  {
   "cell_type": "code",
   "execution_count": 9,
   "metadata": {
    "collapsed": false
   },
   "outputs": [
    {
     "data": {
      "text/plain": [
       "Sentiment(polarity=-0.3, subjectivity=0.8)"
      ]
     },
     "execution_count": 9,
     "metadata": {},
     "output_type": "execute_result"
    }
   ],
   "source": [
    "blob = tb(\"Luan is a sucker, I never want to talk about this asshole anymore.\")\n",
    "blob.sentiment"
   ]
  },
  {
   "cell_type": "markdown",
   "metadata": {},
   "source": [
    "#### Obtivemos nessa sentença -0.3 e 1, onde a polatiry negativa representa que estamos falando mal de luan e subjective em 0.8 representa que é uma opinião pessoal, não uma constatação."
   ]
  },
  {
   "cell_type": "markdown",
   "metadata": {
    "collapsed": true
   },
   "source": [
    "# Tradutor nativo"
   ]
  },
  {
   "cell_type": "markdown",
   "metadata": {},
   "source": [
    "O textblob também tem uma ferramenta de tradução, e isso é muito útil pois a base de dados esta treinada para ter o melhor funcionamento em ingles, portanto antes de fazer a análise traduzimos ultilizando o textblob para ingles. A função detect_language já detecta automaticamente o idioma nativo.\n"
   ]
  },
  {
   "cell_type": "code",
   "execution_count": 21,
   "metadata": {
    "collapsed": false
   },
   "outputs": [
    {
     "data": {
      "text/plain": [
       "'pt'"
      ]
     },
     "execution_count": 21,
     "metadata": {},
     "output_type": "execute_result"
    }
   ],
   "source": [
    "blob = tb(\"O gabriel com certeza é a pessoa mais legal do makerspace\")\n",
    "blob.detect_language()"
   ]
  },
  {
   "cell_type": "markdown",
   "metadata": {},
   "source": [
    "***Para traduzir ultilizamos o comando translate***"
   ]
  },
  {
   "cell_type": "code",
   "execution_count": 22,
   "metadata": {
    "collapsed": false
   },
   "outputs": [
    {
     "data": {
      "text/plain": [
       "TextBlob(\"Gabriel is certainly the coolest person on the makerspace.\")"
      ]
     },
     "execution_count": 22,
     "metadata": {},
     "output_type": "execute_result"
    }
   ],
   "source": [
    "blob.translate()"
   ]
  },
  {
   "cell_type": "markdown",
   "metadata": {},
   "source": [
    "*** Em seguida realizamos a análise***"
   ]
  },
  {
   "cell_type": "code",
   "execution_count": 23,
   "metadata": {
    "collapsed": false
   },
   "outputs": [
    {
     "data": {
      "text/plain": [
       "Sentiment(polarity=0.2, subjectivity=0.2)"
      ]
     },
     "execution_count": 23,
     "metadata": {},
     "output_type": "execute_result"
    }
   ],
   "source": [
    "blob.sentiment"
   ]
  },
  {
   "cell_type": "markdown",
   "metadata": {},
   "source": [
    "Analisando o resultado obtemos 0.2 e 0.2, que por sua vez indica que o sentimento é positivo sobre Gabriel e como subjectivity é baixo não se trata de uma opinião pessoal e sim uma constatação. ***Atenção, palavras como certamente influenciam diretamente o subjectivity***"
   ]
  },
  {
   "cell_type": "markdown",
   "metadata": {},
   "source": [
    "# Vamos aplicar esses conceitos"
   ]
  },
  {
   "cell_type": "code",
   "execution_count": null,
   "metadata": {
    "collapsed": true
   },
   "outputs": [],
   "source": []
  }
 ],
 "metadata": {
  "kernelspec": {
   "display_name": "Python 3",
   "language": "python",
   "name": "python3"
  },
  "language_info": {
   "codemirror_mode": {
    "name": "ipython",
    "version": 3
   },
   "file_extension": ".py",
   "mimetype": "text/x-python",
   "name": "python",
   "nbconvert_exporter": "python",
   "pygments_lexer": "ipython3",
   "version": "3.5.4rc1"
  }
 },
 "nbformat": 4,
 "nbformat_minor": 2
}
